{
 "cells": [
  {
   "cell_type": "code",
   "execution_count": 1,
   "metadata": {},
   "outputs": [],
   "source": [
    "import pandas as pd\n",
    "import numpy as np\n",
    "import matplotlib\n",
    "import matplotlib.pyplot as plt"
   ]
  },
  {
   "cell_type": "code",
   "execution_count": 3,
   "metadata": {},
   "outputs": [
    {
     "data": {
      "text/html": [
       "<div>\n",
       "<style scoped>\n",
       "    .dataframe tbody tr th:only-of-type {\n",
       "        vertical-align: middle;\n",
       "    }\n",
       "\n",
       "    .dataframe tbody tr th {\n",
       "        vertical-align: top;\n",
       "    }\n",
       "\n",
       "    .dataframe thead th {\n",
       "        text-align: right;\n",
       "    }\n",
       "</style>\n",
       "<table border=\"1\" class=\"dataframe\">\n",
       "  <thead>\n",
       "    <tr style=\"text-align: right;\">\n",
       "      <th></th>\n",
       "      <th>Exporters</th>\n",
       "      <th>Exported value in 2003</th>\n",
       "      <th>Exported value in 2004</th>\n",
       "      <th>Exported value in 2005</th>\n",
       "      <th>Exported value in 2006</th>\n",
       "      <th>Exported value in 2007</th>\n",
       "      <th>Exported value in 2008</th>\n",
       "      <th>Exported value in 2009</th>\n",
       "      <th>Exported value in 2010</th>\n",
       "      <th>Exported value in 2011</th>\n",
       "      <th>...</th>\n",
       "      <th>Exported value in 2013</th>\n",
       "      <th>Exported value in 2014</th>\n",
       "      <th>Exported value in 2015</th>\n",
       "      <th>Exported value in 2016</th>\n",
       "      <th>Exported value in 2017</th>\n",
       "      <th>Exported value in 2018</th>\n",
       "      <th>Exported value in 2019</th>\n",
       "      <th>Exported value in 2020</th>\n",
       "      <th>Exported value in 2021</th>\n",
       "      <th>Exported value in 2022</th>\n",
       "    </tr>\n",
       "  </thead>\n",
       "  <tbody>\n",
       "    <tr>\n",
       "      <th>0</th>\n",
       "      <td>World</td>\n",
       "      <td>1845843.0</td>\n",
       "      <td>2632903.0</td>\n",
       "      <td>3571044.0</td>\n",
       "      <td>4393678.0</td>\n",
       "      <td>5276936.0</td>\n",
       "      <td>5907672.0</td>\n",
       "      <td>5182647.0</td>\n",
       "      <td>6270270.0</td>\n",
       "      <td>7275050.0</td>\n",
       "      <td>...</td>\n",
       "      <td>6709768.0</td>\n",
       "      <td>7048964.0</td>\n",
       "      <td>5825818.0</td>\n",
       "      <td>5362483.0</td>\n",
       "      <td>4843472.0</td>\n",
       "      <td>3602225.0</td>\n",
       "      <td>3081760.0</td>\n",
       "      <td>2578045.0</td>\n",
       "      <td>3412029.0</td>\n",
       "      <td>4042243.0</td>\n",
       "    </tr>\n",
       "    <tr>\n",
       "      <th>1</th>\n",
       "      <td>Germany</td>\n",
       "      <td>68435.0</td>\n",
       "      <td>182945.0</td>\n",
       "      <td>245927.0</td>\n",
       "      <td>302324.0</td>\n",
       "      <td>365763.0</td>\n",
       "      <td>581139.0</td>\n",
       "      <td>496868.0</td>\n",
       "      <td>586152.0</td>\n",
       "      <td>704343.0</td>\n",
       "      <td>...</td>\n",
       "      <td>691062.0</td>\n",
       "      <td>724890.0</td>\n",
       "      <td>541618.0</td>\n",
       "      <td>491777.0</td>\n",
       "      <td>432289.0</td>\n",
       "      <td>417287.0</td>\n",
       "      <td>382549.0</td>\n",
       "      <td>298268.0</td>\n",
       "      <td>357380.0</td>\n",
       "      <td>399335.0</td>\n",
       "    </tr>\n",
       "  </tbody>\n",
       "</table>\n",
       "<p>2 rows × 21 columns</p>\n",
       "</div>"
      ],
      "text/plain": [
       "  Exporters  Exported value in 2003  Exported value in 2004  \\\n",
       "0     World               1845843.0               2632903.0   \n",
       "1   Germany                 68435.0                182945.0   \n",
       "\n",
       "   Exported value in 2005  Exported value in 2006  Exported value in 2007  \\\n",
       "0               3571044.0               4393678.0               5276936.0   \n",
       "1                245927.0                302324.0                365763.0   \n",
       "\n",
       "   Exported value in 2008  Exported value in 2009  Exported value in 2010  \\\n",
       "0               5907672.0               5182647.0               6270270.0   \n",
       "1                581139.0                496868.0                586152.0   \n",
       "\n",
       "   Exported value in 2011  ...  Exported value in 2013  \\\n",
       "0               7275050.0  ...               6709768.0   \n",
       "1                704343.0  ...                691062.0   \n",
       "\n",
       "   Exported value in 2014  Exported value in 2015  Exported value in 2016  \\\n",
       "0               7048964.0               5825818.0               5362483.0   \n",
       "1                724890.0                541618.0                491777.0   \n",
       "\n",
       "   Exported value in 2017  Exported value in 2018  Exported value in 2019  \\\n",
       "0               4843472.0               3602225.0               3081760.0   \n",
       "1                432289.0                417287.0                382549.0   \n",
       "\n",
       "   Exported value in 2020  Exported value in 2021  Exported value in 2022  \n",
       "0               2578045.0               3412029.0               4042243.0  \n",
       "1                298268.0                357380.0                399335.0  \n",
       "\n",
       "[2 rows x 21 columns]"
      ]
     },
     "execution_count": 3,
     "metadata": {},
     "output_type": "execute_result"
    }
   ],
   "source": [
    "# files names\n",
    "imp=\"Trade_Map_-_List_of_importers_for_the_selected_product_(Waste__parings_and_scrap__of_plastics).xls\"\n",
    "exp=\"Trade_Map_-_List_of_exporters_for_the_selected_product_(Waste__parings_and_scrap__of_plastics).xls\"\n",
    "\n",
    "# importing data related to imports\n",
    "dimp=pd.read_html(imp,header=0)\n",
    "dimp1=dimp[3]\n",
    "\n",
    "# imported data related to exports\n",
    "dexp=pd.read_html(exp,header=0)\n",
    "dexp1=dexp[3]\n",
    "dexp1.head(2)"
   ]
  },
  {
   "cell_type": "code",
   "execution_count": 4,
   "metadata": {},
   "outputs": [
    {
     "name": "stderr",
     "output_type": "stream",
     "text": [
      "C:\\Users\\rcadet\\AppData\\Local\\Temp\\ipykernel_23404\\3668241444.py:6: SettingWithCopyWarning: \n",
      "A value is trying to be set on a copy of a slice from a DataFrame.\n",
      "Try using .loc[row_indexer,col_indexer] = value instead\n",
      "\n",
      "See the caveats in the documentation: https://pandas.pydata.org/pandas-docs/stable/user_guide/indexing.html#returning-a-view-versus-a-copy\n",
      "  dexp1['Type']='Imports'\n",
      "C:\\Users\\rcadet\\AppData\\Local\\Temp\\ipykernel_23404\\3668241444.py:7: SettingWithCopyWarning: \n",
      "A value is trying to be set on a copy of a slice from a DataFrame.\n",
      "Try using .loc[row_indexer,col_indexer] = value instead\n",
      "\n",
      "See the caveats in the documentation: https://pandas.pydata.org/pandas-docs/stable/user_guide/indexing.html#returning-a-view-versus-a-copy\n",
      "  dimp1['Type']='Exports'\n"
     ]
    },
    {
     "data": {
      "text/plain": [
       "((224, 3), (218, 3))"
      ]
     },
     "execution_count": 4,
     "metadata": {},
     "output_type": "execute_result"
    }
   ],
   "source": [
    "# selected only countries names and values for the last year of available data, 2022\n",
    "dexp1=dexp1[['Exporters','Exported value in 2022']]\n",
    "dimp1=dimp1[['Importers','Imported value in 2022']]\n",
    "\n",
    "# created a column to indicate the type of data\n",
    "dexp1['Type']='Imports'\n",
    "dimp1['Type']='Exports'\n",
    "\n",
    "# change columns names to be similar in both dexp1 and dimp1\n",
    "dexp1.columns=['Countries','Values','Type']\n",
    "dimp1.columns=['Countries','Values','Type']\n",
    "dimp1.shape,dexp1.shape\n"
   ]
  },
  {
   "cell_type": "code",
   "execution_count": 5,
   "metadata": {},
   "outputs": [
    {
     "data": {
      "text/plain": [
       "(442, 3)"
      ]
     },
     "execution_count": 5,
     "metadata": {},
     "output_type": "execute_result"
    }
   ],
   "source": [
    "# merged imports and exports data in one data frame\n",
    "df=pd.concat([dexp1,dimp1])\n",
    "df.shape"
   ]
  },
  {
   "cell_type": "code",
   "execution_count": 7,
   "metadata": {},
   "outputs": [
    {
     "data": {
      "image/png": "[encoded data removed]",
      "text/plain": [
       "<Figure size 640x480 with 2 Axes>"
      ]
     },
     "metadata": {},
     "output_type": "display_data"
    }
   ],
   "source": [
    "trade_types=list(set(df.Type))\n",
    "fig,ax=plt.subplots(1,2)\n",
    "for i in range(len(trade_types)):\n",
    "    do=df[df.Type==trade_types[i]].sort_values('Values',ascending=False)\n",
    "    do=do[do.Countries!='World'].head(10)\n",
    "    ax[i].barh(do['Countries'], do['Values'])\n",
    "    ax[i].invert_yaxis()\n",
    "    ax[i].set_title(trade_types[i])\n",
    "    ax[i].spines[['top','left','right','bottom']].set_visible(False) \n",
    "plt.xlabel('USD thousand')\n",
    "plt.tight_layout(pad=0.5)"
   ]
  },
  {
   "cell_type": "code",
   "execution_count": 23,
   "metadata": {},
   "outputs": [
    {
     "data": {
      "text/plain": [
       "['Imports', 'Exports']"
      ]
     },
     "execution_count": 23,
     "metadata": {},
     "output_type": "execute_result"
    }
   ],
   "source": [
    "list(set(df.Type))"
   ]
  }
 ],
 "metadata": {
  "kernelspec": {
   "display_name": "Python 3",
   "language": "python",
   "name": "python3"
  },
  "language_info": {
   "codemirror_mode": {
    "name": "ipython",
    "version": 3
   },
   "file_extension": ".py",
   "mimetype": "text/x-python",
   "name": "python",
   "nbconvert_exporter": "python",
   "pygments_lexer": "ipython3",
   "version": "3.11.4"
  }
 },
 "nbformat": 4,
 "nbformat_minor": 2
}
